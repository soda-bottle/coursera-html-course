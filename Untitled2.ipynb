{
  "nbformat": 4,
  "nbformat_minor": 0,
  "metadata": {
    "colab": {
      "provenance": [],
      "authorship_tag": "ABX9TyNszJKYcKrazInr+aj/hy3O",
      "include_colab_link": true
    },
    "kernelspec": {
      "name": "python3",
      "display_name": "Python 3"
    },
    "language_info": {
      "name": "python"
    }
  },
  "cells": [
    {
      "cell_type": "markdown",
      "metadata": {
        "id": "view-in-github",
        "colab_type": "text"
      },
      "source": [
        "<a href=\"https://colab.research.google.com/github/soda-bottle/coursera-html-course/blob/main/Untitled2.ipynb\" target=\"_parent\"><img src=\"https://colab.research.google.com/assets/colab-badge.svg\" alt=\"Open In Colab\"/></a>"
      ]
    },
    {
      "cell_type": "markdown",
      "source": [
        "**Vector Spaces**\n",
        "- Linear algebra focuses on linear maps within finite-dimensional vector spaces.\n",
        "- The chapter introduces the definitions of vector spaces and their key properties.\n",
        "- Complex numbers are integrated with real numbers for deeper insights in linear algebra.\n",
        "  - Example: The complex number $i$ represents the square root of $-1$.\n",
        "- Generalization of 2D and 3D spaces to $ \\mathbb{R}^n $ and $ \\mathbb{C}^n $ is discussed, leading to the concept of vector spaces.\n",
        "- A vector space is defined as a set equipped with addition and scalar multiplication satisfying algebraic properties.\n",
        "- Subspaces, sums of subspaces, and direct sums of subspaces are also examined, drawing analogies with subsets and unions in set theory.\n",
        "- Historical reference: René Descartes and his work on coordinate systems published in 1637."
      ],
      "metadata": {
        "id": "QaQ2XIdI4W3T"
      }
    },
    {
      "cell_type": "markdown",
      "source": [
        "**Complex Numbers**\n",
        "- Definition of Complex Numbers: A complex number is an ordered pair $(a, b)$ where $a, b \\in \\mathbb{R}$, commonly written as $a + bi$.\n",
        "- The set of all complex numbers is denoted $ \\mathbb{C} = \\{ a + bi : a, b \\in \\mathbb{R} \\} $.\n",
        "- Operations:\n",
        "  - Addition: $(a + bi) + (c + di) = (a + c) + (b + d)i$\n",
        "  - Multiplication: $(a + bi)(c + di) = (ac - bd) + (ad + bc)i$\n",
        "- Relationship between real numbers and complex numbers: Real numbers can be viewed as complex numbers with zero imaginary parts."
      ],
      "metadata": {
        "id": "4qVyaVlt34Oj"
      }
    }
  ]
}